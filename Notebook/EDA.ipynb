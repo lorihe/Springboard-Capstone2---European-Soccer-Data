{
 "cells": [
  {
   "cell_type": "code",
   "execution_count": 1,
   "id": "068d9a37",
   "metadata": {},
   "outputs": [],
   "source": [
    "import numpy as np\n",
    "import matplotlib.pyplot as plt\n",
    "import seaborn as sns\n",
    "import pandas as pd\n",
    "import numpy as np\n",
    "from numpy import random\n",
    "from datetime import datetime\n",
    "from math import nan\n",
    "import warnings\n",
    "from sklearn.preprocessing import StandardScaler\n",
    "from sklearn.decomposition import PCA\n",
    "from sklearn.preprocessing import MinMaxScaler\n",
    "from mpl_toolkits.mplot3d import Axes3D\n",
    "from sklearn.cluster import KMeans\n",
    "import statsmodels.api as sm\n",
    "\n",
    "%matplotlib inline\n",
    "warnings.filterwarnings('ignore')"
   ]
  },
  {
   "cell_type": "code",
   "execution_count": 2,
   "id": "1491141c",
   "metadata": {},
   "outputs": [],
   "source": [
    "pd.set_option('display.max_rows', 20)\n",
    "pd.set_option('display.max_columns', None)"
   ]
  },
  {
   "cell_type": "code",
   "execution_count": 3,
   "id": "bd0abfdb",
   "metadata": {},
   "outputs": [],
   "source": [
    "sns.set_style(\"whitegrid\")"
   ]
  },
  {
   "cell_type": "markdown",
   "id": "a57c0248",
   "metadata": {},
   "source": [
    "### 1. Import and clean data preliminarily"
   ]
  },
  {
   "cell_type": "code",
   "execution_count": null,
   "id": "1b53713c",
   "metadata": {},
   "outputs": [],
   "source": [
    "matches_combined = pd.read_csv('../dataset/matches_combines_2.csv')\n",
    "matches = pd.read_csv('../dataset/matches.csv')\n",
    "player = pd.read_csv('../dataset/player.csv')\n",
    "player_detail = pd.read_csv('../dataset/player_detail.csv')"
   ]
  },
  {
   "cell_type": "code",
   "execution_count": null,
   "id": "2a58fe7d",
   "metadata": {},
   "outputs": [],
   "source": [
    "matches_combined.shape"
   ]
  },
  {
   "cell_type": "code",
   "execution_count": null,
   "id": "2fafa4bf",
   "metadata": {},
   "outputs": [],
   "source": [
    "matches_combined.head()"
   ]
  },
  {
   "cell_type": "code",
   "execution_count": null,
   "id": "879ac0a3",
   "metadata": {},
   "outputs": [],
   "source": [
    "matches_combined['result'].value_counts()"
   ]
  },
  {
   "cell_type": "markdown",
   "id": "6e0c4443",
   "metadata": {},
   "source": [
    "- Home win has more observations than home lose"
   ]
  },
  {
   "cell_type": "code",
   "execution_count": null,
   "id": "3c02b884",
   "metadata": {},
   "outputs": [],
   "source": [
    "#drop columns that have less significant influence on match result by common sense\n",
    "columns = matches_combined.columns\n",
    "new_columns = [col for col in columns if 'dribbling_GK' not in col\n",
    "                                  and 'sprint_speed_GK' not in col\n",
    "                                  and 'passing_speed_GK' not in col\n",
    "                                  and 'shooting_GK' not in col \n",
    "                                  and 'defence_GK' not in col\n",
    "                                  and 'passing_GK' not in col\n",
    "                                  and 'dribbling_CB' not in col\n",
    "                                  and 'sprint_speed_CB' not in col\n",
    "                                  and 'passing_speed_CB' not in col\n",
    "                                  and 'shooting_CB' not in col   \n",
    "                                  and 'defence_ST' not in col\n",
    "                                  and 'defence_W' not in col\n",
    "                                  and 'sprint_speed_MF' not in col\n",
    "                                  and 'goalkeeping_CB' not in col\n",
    "                                  and 'goalkeeping_MF' not in col\n",
    "                                  and 'goalkeeping_SB' not in col\n",
    "                                  and 'goalkeeping_ST' not in col\n",
    "                                  and 'goalkeeping_W' not in col]\n",
    "\n",
    "matches_combined = matches_combined[new_columns]"
   ]
  },
  {
   "cell_type": "code",
   "execution_count": null,
   "id": "6a59f362",
   "metadata": {},
   "outputs": [],
   "source": [
    "matches_combined.isna().sum()"
   ]
  },
  {
   "cell_type": "markdown",
   "id": "8fe172fb",
   "metadata": {},
   "source": [
    "- Missing data appear on position 'W' and 'SB'."
   ]
  },
  {
   "cell_type": "code",
   "execution_count": null,
   "id": "1e38d5e0",
   "metadata": {},
   "outputs": [],
   "source": [
    "matches_combined.dropna(inplace = True)\n",
    "matches_combined = matches_combined.reset_index(drop = True)\n",
    "matches_combined.shape"
   ]
  },
  {
   "cell_type": "markdown",
   "id": "deaabb6a",
   "metadata": {},
   "source": [
    "### 2. Check out outliers"
   ]
  },
  {
   "cell_type": "code",
   "execution_count": null,
   "id": "ab0c4513",
   "metadata": {},
   "outputs": [],
   "source": [
    "matches_new = matches_combined.drop('match_api_id', axis = 1)\n",
    "y = matches_new['result']\n",
    "X = matches_new.drop(['result'], axis = 1)"
   ]
  },
  {
   "cell_type": "code",
   "execution_count": null,
   "id": "c64464fb",
   "metadata": {},
   "outputs": [],
   "source": [
    "# A quick view of all columns distributions\n",
    "X.hist(bins=20, figsize=(15, 15))\n",
    "plt.show()"
   ]
  },
  {
   "cell_type": "code",
   "execution_count": null,
   "id": "092f2227",
   "metadata": {},
   "outputs": [],
   "source": [
    "X.describe()"
   ]
  },
  {
   "cell_type": "markdown",
   "id": "a66d5fb4",
   "metadata": {},
   "source": [
    "- A few parameters look way below average. "
   ]
  },
  {
   "cell_type": "code",
   "execution_count": null,
   "id": "d853816c",
   "metadata": {},
   "outputs": [],
   "source": [
    "z_scores = np.abs((X - X.mean()) / X.std())\n",
    "outliers = z_scores > 4\n",
    "outliers_rows = matches_combined[outliers.any(axis=1)]\n",
    "\n",
    "outliers_rows.shape"
   ]
  },
  {
   "cell_type": "code",
   "execution_count": null,
   "id": "f8d6de5a",
   "metadata": {},
   "outputs": [],
   "source": [
    "# Check which columns have the most outliers\n",
    "outlier_counts = outliers.sum()\n",
    "plt.figure(figsize=(8, 4))\n",
    "outlier_counts.plot(kind='bar')\n",
    "plt.xlabel('Columns')\n",
    "plt.ylabel('Number of Outliers')\n",
    "plt.title('Number of Outliers in Each Column')\n",
    "plt.show()"
   ]
  },
  {
   "cell_type": "code",
   "execution_count": null,
   "id": "0ac76597",
   "metadata": {
    "scrolled": true
   },
   "outputs": [],
   "source": [
    "outliers_rows.head(30)"
   ]
  },
  {
   "cell_type": "code",
   "execution_count": null,
   "id": "f16aa837",
   "metadata": {},
   "outputs": [],
   "source": [
    "# Check the match which shooting_ST_home = 12\n",
    "matches.query('match_api_id == 483333')"
   ]
  },
  {
   "cell_type": "code",
   "execution_count": null,
   "id": "c7c1df0e",
   "metadata": {},
   "outputs": [],
   "source": [
    "player.query('player_api_id == 37254')"
   ]
  },
  {
   "cell_type": "code",
   "execution_count": null,
   "id": "6e8a33ea",
   "metadata": {},
   "outputs": [],
   "source": [
    "player_detail.query('player_api_id == 37254')"
   ]
  },
  {
   "cell_type": "markdown",
   "id": "b72f1bbe",
   "metadata": {},
   "source": [
    "- It seems that this player had good days and bad days"
   ]
  },
  {
   "cell_type": "code",
   "execution_count": null,
   "id": "08ad1da6",
   "metadata": {},
   "outputs": [],
   "source": [
    "# Check the match which goalkeeping_GK_home = 16.3\n",
    "matches.query('match_api_id == 654326')"
   ]
  },
  {
   "cell_type": "code",
   "execution_count": null,
   "id": "56f41897",
   "metadata": {},
   "outputs": [],
   "source": [
    "player.query('player_api_id == 94289')"
   ]
  },
  {
   "cell_type": "markdown",
   "id": "f8f9950c",
   "metadata": {},
   "source": [
    "A quick search shows this player plays midfielder regularly instead of goalkeeper."
   ]
  },
  {
   "cell_type": "markdown",
   "id": "b024df1c",
   "metadata": {},
   "source": [
    "### 2. Check out correlations"
   ]
  },
  {
   "cell_type": "code",
   "execution_count": null,
   "id": "2f44cf0c",
   "metadata": {},
   "outputs": [],
   "source": [
    "# Plot correlation heatmap\n",
    "plt.subplots(figsize=(12,12))\n",
    "sns.heatmap(matches_new.iloc[:, :20].corr(),annot=True, cmap=sns.diverging_palette(220, 20, as_cmap=True))"
   ]
  },
  {
   "cell_type": "markdown",
   "id": "d704bbd7",
   "metadata": {},
   "source": [
    "#### Observations: \n",
    "#### - there are constant high correlations between 'passing' and 'dribbling' of one position\n",
    "Decision: remove 'drbbling' for all positions\n",
    "#### - there's a high correlation between 'shooting_MF' and 'passing_MF'\n",
    "Decision: remove 'shooting_MF'\n",
    "#### - there are constant high correlations between different position which results from unclear reason. \n",
    "Decision: ignore"
   ]
  },
  {
   "cell_type": "code",
   "execution_count": null,
   "id": "03fd1e3f",
   "metadata": {},
   "outputs": [],
   "source": [
    "# Drop features\n",
    "matches_new = matches_new.drop(['dribbling_MF_home', 'dribbling_SB_home', 'dribbling_ST_home',\n",
    "       'dribbling_W_home', 'dribbling_MF_away', 'dribbling_SB_away', 'dribbling_ST_away', 'dribbling_W_away',\n",
    "      'shooting_MF_home', 'shooting_MF_away'], axis = 1)"
   ]
  },
  {
   "cell_type": "markdown",
   "id": "06498872",
   "metadata": {},
   "source": [
    "### 3. Quick view on logistic modeling insights using statsmodel"
   ]
  },
  {
   "cell_type": "code",
   "execution_count": null,
   "id": "157ffdcf",
   "metadata": {},
   "outputs": [],
   "source": [
    "y = matches_new['result']\n",
    "X = matches_new.drop(['result'], axis = 1)"
   ]
  },
  {
   "cell_type": "code",
   "execution_count": null,
   "id": "48274263",
   "metadata": {},
   "outputs": [],
   "source": [
    "scaler = MinMaxScaler()\n",
    "scaler.fit(X)"
   ]
  },
  {
   "cell_type": "code",
   "execution_count": null,
   "id": "ae89fe73",
   "metadata": {},
   "outputs": [],
   "source": [
    "X_transformed = scaler.transform(X)\n",
    "transformed_df = pd.DataFrame(X_transformed, columns = X.columns)\n",
    "transformed_df['result'] = matches_new['result']"
   ]
  },
  {
   "cell_type": "code",
   "execution_count": null,
   "id": "edcde8ea",
   "metadata": {},
   "outputs": [],
   "source": [
    "transformed_df.head()"
   ]
  },
  {
   "cell_type": "code",
   "execution_count": null,
   "id": "a6ca0b1e",
   "metadata": {},
   "outputs": [],
   "source": [
    "X_sm = sm.add_constant(X)\n",
    "\n",
    "label_mapping = {'lose':0, 'tie':0.5, 'win':1}\n",
    "\n",
    "y_sm = y.map(label_mapping)\n",
    "log_reg = sm.Logit(y_sm, X_sm).fit()\n",
    "print(log_reg.summary2())"
   ]
  },
  {
   "cell_type": "markdown",
   "id": "f0fc236d",
   "metadata": {},
   "source": [
    "#### Observation: \n",
    "#### - defence_MF_home has a negative coef., while defence_MF_away has a positive coef and P = 0.57. \n",
    "Decision: remove both 'defence_MF_home' and 'defence_MF_away'"
   ]
  },
  {
   "cell_type": "code",
   "execution_count": null,
   "id": "0c7a1a48",
   "metadata": {},
   "outputs": [],
   "source": [
    "# Drop features\n",
    "matches_new = matches_new.drop(['defence_MF_home','defence_MF_away'], axis = 1)"
   ]
  },
  {
   "cell_type": "code",
   "execution_count": null,
   "id": "0637902a",
   "metadata": {},
   "outputs": [],
   "source": [
    "y = matches_new['result']\n",
    "X = matches_new.drop(['result'], axis = 1)\n",
    "scaler = MinMaxScaler()\n",
    "scaler.fit(X)\n",
    "\n",
    "X_transformed = scaler.transform(X)\n",
    "\n",
    "#Create dataframe for visualization\n",
    "transformed_df = pd.DataFrame(X_transformed, columns = X.columns)\n",
    "transformed_df['result'] = matches_new['result']"
   ]
  },
  {
   "cell_type": "code",
   "execution_count": null,
   "id": "1e1cb6ad",
   "metadata": {},
   "outputs": [],
   "source": [
    "X_sm = sm.add_constant(X)\n",
    "\n",
    "label_mapping = {'lose':0, 'tie':0.5, 'win':1}\n",
    "\n",
    "y_sm = y.map(label_mapping)\n",
    "log_reg = sm.Logit(y_sm, X_sm).fit()\n",
    "print(log_reg.summary2())"
   ]
  },
  {
   "cell_type": "markdown",
   "id": "2f73bbd9",
   "metadata": {},
   "source": [
    "- Now all home team features have positive coef. and all away team features have negative coef."
   ]
  },
  {
   "cell_type": "markdown",
   "id": "d02f22a7",
   "metadata": {},
   "source": [
    "### 4. Visualizae high dimensional data using PCA"
   ]
  },
  {
   "cell_type": "code",
   "execution_count": null,
   "id": "5fd041ad",
   "metadata": {},
   "outputs": [],
   "source": [
    "for i in range(2,5):\n",
    "    pca = PCA(n_components=i)\n",
    "    X_pca_new = pca.fit_transform(X_transformed)\n",
    "    print('n_components='+str(i))\n",
    "    print(pca.explained_variance_ratio_)"
   ]
  },
  {
   "cell_type": "code",
   "execution_count": null,
   "id": "4b7a21e9",
   "metadata": {},
   "outputs": [],
   "source": [
    "pca = PCA(n_components=2)\n",
    "X_pca_new = pca.fit_transform(X_transformed)"
   ]
  },
  {
   "cell_type": "code",
   "execution_count": null,
   "id": "429fb73b",
   "metadata": {},
   "outputs": [],
   "source": [
    "pca_df = pd.DataFrame(X_pca_new, columns = ['PC1', 'PC2'])\n",
    "pca_df['result'] = y\n",
    "pca_df.head()"
   ]
  },
  {
   "cell_type": "code",
   "execution_count": null,
   "id": "2202eba6",
   "metadata": {},
   "outputs": [],
   "source": [
    "fig, axes = plt.subplots(figsize = (10,10))\n",
    "results = ['win', 'tie', 'lose']\n",
    "colors = ['lightblue', 'burlywood', 'sienna']\n",
    "\n",
    "for result, color in zip(results, colors):\n",
    "    indicesToKeep = pca_df['result'] == result\n",
    "    axes.scatter(pca_df.loc[indicesToKeep, 'PC1'],\n",
    "                 pca_df.loc[indicesToKeep, 'PC2'],\n",
    "                 c=color,\n",
    "                 label=result,\n",
    "                 s=2)\n",
    "\n",
    "axes.set_xlabel('PC1')\n",
    "axes.set_ylabel('PC2')\n",
    "axes.legend()\n",
    "axes.grid()\n",
    "plt.show()"
   ]
  },
  {
   "cell_type": "markdown",
   "id": "d12d06c4",
   "metadata": {},
   "source": [
    "- Not ideal, but can observe some patterns"
   ]
  },
  {
   "cell_type": "code",
   "execution_count": null,
   "id": "c4b5f3e9",
   "metadata": {},
   "outputs": [],
   "source": [
    "pca_3 = PCA(n_components=3)\n",
    "X_pca_new_3 = pca_3.fit_transform(X_transformed)\n",
    "pca_df_3 = pd.DataFrame(X_pca_new_3, columns = ['PC1', 'PC2', 'PC3'])\n",
    "pca_df_3['result'] = y"
   ]
  },
  {
   "cell_type": "code",
   "execution_count": null,
   "id": "e1909df3",
   "metadata": {
    "scrolled": true
   },
   "outputs": [],
   "source": [
    "plt.rcParams['figure.figsize'] = (20, 20)\n",
    "fig = plt.figure()\n",
    "axes = Axes3D(fig)\n",
    "\n",
    "\n",
    "results = ['win', 'tie', 'lose']\n",
    "colors = ['lightblue', 'palegreen', 'sienna']\n",
    "\n",
    "for result, color in zip(results, colors):\n",
    "    indicesToKeep = pca_df_3['result'] == result\n",
    "    axes.scatter(pca_df_3.loc[indicesToKeep, 'PC1'],\n",
    "                 pca_df_3.loc[indicesToKeep, 'PC2'],\n",
    "                 pca_df_3.loc[indicesToKeep, 'PC3'],\n",
    "                 c=color,\n",
    "                 label=result,\n",
    "                 s=1)"
   ]
  },
  {
   "cell_type": "markdown",
   "id": "0d07c4f1",
   "metadata": {},
   "source": [
    "- Not ideal, but can observe some patterns"
   ]
  },
  {
   "cell_type": "code",
   "execution_count": null,
   "id": "52ca9400",
   "metadata": {},
   "outputs": [],
   "source": [
    "# Save final dataframe\n",
    "matches_new.to_csv('../dataset/matches_final.csv', index = False)"
   ]
  },
  {
   "cell_type": "code",
   "execution_count": null,
   "id": "897d4a2a",
   "metadata": {},
   "outputs": [],
   "source": []
  }
 ],
 "metadata": {
  "kernelspec": {
   "display_name": "Python 3 (ipykernel)",
   "language": "python",
   "name": "python3"
  },
  "language_info": {
   "codemirror_mode": {
    "name": "ipython",
    "version": 3
   },
   "file_extension": ".py",
   "mimetype": "text/x-python",
   "name": "python",
   "nbconvert_exporter": "python",
   "pygments_lexer": "ipython3",
   "version": "3.9.13"
  }
 },
 "nbformat": 4,
 "nbformat_minor": 5
}
