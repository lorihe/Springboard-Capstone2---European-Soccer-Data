{
 "cells": [
  {
   "cell_type": "code",
   "execution_count": 1,
   "id": "34a7384c",
   "metadata": {},
   "outputs": [],
   "source": [
    "import numpy as np\n",
    "import matplotlib.pyplot as plt\n",
    "import seaborn as sns\n",
    "import pandas as pd\n",
    "import numpy as np\n",
    "from numpy import random\n",
    "from datetime import datetime\n",
    "from math import nan\n",
    "import warnings\n",
    "from sklearn.preprocessing import StandardScaler\n",
    "from sklearn.decomposition import PCA\n",
    "from sklearn.preprocessing import MinMaxScaler\n",
    "from mpl_toolkits.mplot3d import Axes3D\n",
    "from sklearn.cluster import KMeans\n",
    "import statsmodels.api as sm\n",
    "import scipy.stats as stats\n",
    "\n",
    "%matplotlib inline\n",
    "warnings.filterwarnings('ignore')"
   ]
  },
  {
   "cell_type": "code",
   "execution_count": 2,
   "id": "e0a94f19",
   "metadata": {},
   "outputs": [],
   "source": [
    "pd.set_option('display.max_rows', None)\n",
    "pd.set_option('display.max_columns', None)"
   ]
  },
  {
   "cell_type": "code",
   "execution_count": 3,
   "id": "6c5d5fe0",
   "metadata": {},
   "outputs": [],
   "source": [
    "sns.set_style(\"whitegrid\")"
   ]
  },
  {
   "cell_type": "code",
   "execution_count": 4,
   "id": "128c929a",
   "metadata": {},
   "outputs": [],
   "source": [
    "player_group_date = pd.read_csv('../dataset/player_group_date.csv')"
   ]
  },
  {
   "cell_type": "code",
   "execution_count": 5,
   "id": "aebe8bad",
   "metadata": {},
   "outputs": [
    {
     "data": {
      "text/html": [
       "<div>\n",
       "<style scoped>\n",
       "    .dataframe tbody tr th:only-of-type {\n",
       "        vertical-align: middle;\n",
       "    }\n",
       "\n",
       "    .dataframe tbody tr th {\n",
       "        vertical-align: top;\n",
       "    }\n",
       "\n",
       "    .dataframe thead th {\n",
       "        text-align: right;\n",
       "    }\n",
       "</style>\n",
       "<table border=\"1\" class=\"dataframe\">\n",
       "  <thead>\n",
       "    <tr style=\"text-align: right;\">\n",
       "      <th></th>\n",
       "      <th>player_api_id</th>\n",
       "      <th>date</th>\n",
       "      <th>passing</th>\n",
       "      <th>shooting</th>\n",
       "      <th>defence</th>\n",
       "      <th>goalkeeping</th>\n",
       "      <th>offence_misc</th>\n",
       "      <th>movement</th>\n",
       "    </tr>\n",
       "  </thead>\n",
       "  <tbody>\n",
       "    <tr>\n",
       "      <th>0</th>\n",
       "      <td>2625</td>\n",
       "      <td>2007</td>\n",
       "      <td>59.67</td>\n",
       "      <td>54.125</td>\n",
       "      <td>61.25</td>\n",
       "      <td>16.25</td>\n",
       "      <td>56.0</td>\n",
       "      <td>62.67</td>\n",
       "    </tr>\n",
       "    <tr>\n",
       "      <th>1</th>\n",
       "      <td>291219</td>\n",
       "      <td>2007</td>\n",
       "      <td>38.33</td>\n",
       "      <td>63.750</td>\n",
       "      <td>24.50</td>\n",
       "      <td>10.25</td>\n",
       "      <td>60.0</td>\n",
       "      <td>60.67</td>\n",
       "    </tr>\n",
       "    <tr>\n",
       "      <th>2</th>\n",
       "      <td>27421</td>\n",
       "      <td>2007</td>\n",
       "      <td>61.67</td>\n",
       "      <td>49.750</td>\n",
       "      <td>70.00</td>\n",
       "      <td>18.50</td>\n",
       "      <td>69.0</td>\n",
       "      <td>57.00</td>\n",
       "    </tr>\n",
       "    <tr>\n",
       "      <th>3</th>\n",
       "      <td>45464</td>\n",
       "      <td>2007</td>\n",
       "      <td>58.00</td>\n",
       "      <td>31.500</td>\n",
       "      <td>65.25</td>\n",
       "      <td>13.00</td>\n",
       "      <td>63.0</td>\n",
       "      <td>59.67</td>\n",
       "    </tr>\n",
       "    <tr>\n",
       "      <th>4</th>\n",
       "      <td>182107</td>\n",
       "      <td>2007</td>\n",
       "      <td>38.67</td>\n",
       "      <td>28.500</td>\n",
       "      <td>43.25</td>\n",
       "      <td>17.50</td>\n",
       "      <td>38.0</td>\n",
       "      <td>60.33</td>\n",
       "    </tr>\n",
       "  </tbody>\n",
       "</table>\n",
       "</div>"
      ],
      "text/plain": [
       "   player_api_id  date  passing  shooting  defence  goalkeeping  offence_misc  \\\n",
       "0           2625  2007    59.67    54.125    61.25        16.25          56.0   \n",
       "1         291219  2007    38.33    63.750    24.50        10.25          60.0   \n",
       "2          27421  2007    61.67    49.750    70.00        18.50          69.0   \n",
       "3          45464  2007    58.00    31.500    65.25        13.00          63.0   \n",
       "4         182107  2007    38.67    28.500    43.25        17.50          38.0   \n",
       "\n",
       "   movement  \n",
       "0     62.67  \n",
       "1     60.67  \n",
       "2     57.00  \n",
       "3     59.67  \n",
       "4     60.33  "
      ]
     },
     "execution_count": 5,
     "metadata": {},
     "output_type": "execute_result"
    }
   ],
   "source": [
    "player_group_date.head()"
   ]
  },
  {
   "cell_type": "code",
   "execution_count": 6,
   "id": "d7c714e1",
   "metadata": {},
   "outputs": [
    {
     "ename": "FileNotFoundError",
     "evalue": "[Errno 2] No such file or directory: '../dataset/matches_h_XY.csv'",
     "output_type": "error",
     "traceback": [
      "\u001b[1;31m---------------------------------------------------------------------------\u001b[0m",
      "\u001b[1;31mFileNotFoundError\u001b[0m                         Traceback (most recent call last)",
      "Cell \u001b[1;32mIn[6], line 1\u001b[0m\n\u001b[1;32m----> 1\u001b[0m matches_h_XY \u001b[38;5;241m=\u001b[39m \u001b[43mpd\u001b[49m\u001b[38;5;241;43m.\u001b[39;49m\u001b[43mread_csv\u001b[49m\u001b[43m(\u001b[49m\u001b[38;5;124;43m'\u001b[39;49m\u001b[38;5;124;43m../dataset/matches_h_XY.csv\u001b[39;49m\u001b[38;5;124;43m'\u001b[39;49m\u001b[43m)\u001b[49m\n\u001b[0;32m      2\u001b[0m matches_a_XY \u001b[38;5;241m=\u001b[39m pd\u001b[38;5;241m.\u001b[39mread_csv(\u001b[38;5;124m'\u001b[39m\u001b[38;5;124m../dataset/matches_a_XY.csv\u001b[39m\u001b[38;5;124m'\u001b[39m)\n",
      "File \u001b[1;32m~\\anaconda3\\lib\\site-packages\\pandas\\util\\_decorators.py:311\u001b[0m, in \u001b[0;36mdeprecate_nonkeyword_arguments.<locals>.decorate.<locals>.wrapper\u001b[1;34m(*args, **kwargs)\u001b[0m\n\u001b[0;32m    305\u001b[0m \u001b[38;5;28;01mif\u001b[39;00m \u001b[38;5;28mlen\u001b[39m(args) \u001b[38;5;241m>\u001b[39m num_allow_args:\n\u001b[0;32m    306\u001b[0m     warnings\u001b[38;5;241m.\u001b[39mwarn(\n\u001b[0;32m    307\u001b[0m         msg\u001b[38;5;241m.\u001b[39mformat(arguments\u001b[38;5;241m=\u001b[39marguments),\n\u001b[0;32m    308\u001b[0m         \u001b[38;5;167;01mFutureWarning\u001b[39;00m,\n\u001b[0;32m    309\u001b[0m         stacklevel\u001b[38;5;241m=\u001b[39mstacklevel,\n\u001b[0;32m    310\u001b[0m     )\n\u001b[1;32m--> 311\u001b[0m \u001b[38;5;28;01mreturn\u001b[39;00m func(\u001b[38;5;241m*\u001b[39margs, \u001b[38;5;241m*\u001b[39m\u001b[38;5;241m*\u001b[39mkwargs)\n",
      "File \u001b[1;32m~\\anaconda3\\lib\\site-packages\\pandas\\io\\parsers\\readers.py:678\u001b[0m, in \u001b[0;36mread_csv\u001b[1;34m(filepath_or_buffer, sep, delimiter, header, names, index_col, usecols, squeeze, prefix, mangle_dupe_cols, dtype, engine, converters, true_values, false_values, skipinitialspace, skiprows, skipfooter, nrows, na_values, keep_default_na, na_filter, verbose, skip_blank_lines, parse_dates, infer_datetime_format, keep_date_col, date_parser, dayfirst, cache_dates, iterator, chunksize, compression, thousands, decimal, lineterminator, quotechar, quoting, doublequote, escapechar, comment, encoding, encoding_errors, dialect, error_bad_lines, warn_bad_lines, on_bad_lines, delim_whitespace, low_memory, memory_map, float_precision, storage_options)\u001b[0m\n\u001b[0;32m    663\u001b[0m kwds_defaults \u001b[38;5;241m=\u001b[39m _refine_defaults_read(\n\u001b[0;32m    664\u001b[0m     dialect,\n\u001b[0;32m    665\u001b[0m     delimiter,\n\u001b[1;32m   (...)\u001b[0m\n\u001b[0;32m    674\u001b[0m     defaults\u001b[38;5;241m=\u001b[39m{\u001b[38;5;124m\"\u001b[39m\u001b[38;5;124mdelimiter\u001b[39m\u001b[38;5;124m\"\u001b[39m: \u001b[38;5;124m\"\u001b[39m\u001b[38;5;124m,\u001b[39m\u001b[38;5;124m\"\u001b[39m},\n\u001b[0;32m    675\u001b[0m )\n\u001b[0;32m    676\u001b[0m kwds\u001b[38;5;241m.\u001b[39mupdate(kwds_defaults)\n\u001b[1;32m--> 678\u001b[0m \u001b[38;5;28;01mreturn\u001b[39;00m \u001b[43m_read\u001b[49m\u001b[43m(\u001b[49m\u001b[43mfilepath_or_buffer\u001b[49m\u001b[43m,\u001b[49m\u001b[43m \u001b[49m\u001b[43mkwds\u001b[49m\u001b[43m)\u001b[49m\n",
      "File \u001b[1;32m~\\anaconda3\\lib\\site-packages\\pandas\\io\\parsers\\readers.py:575\u001b[0m, in \u001b[0;36m_read\u001b[1;34m(filepath_or_buffer, kwds)\u001b[0m\n\u001b[0;32m    572\u001b[0m _validate_names(kwds\u001b[38;5;241m.\u001b[39mget(\u001b[38;5;124m\"\u001b[39m\u001b[38;5;124mnames\u001b[39m\u001b[38;5;124m\"\u001b[39m, \u001b[38;5;28;01mNone\u001b[39;00m))\n\u001b[0;32m    574\u001b[0m \u001b[38;5;66;03m# Create the parser.\u001b[39;00m\n\u001b[1;32m--> 575\u001b[0m parser \u001b[38;5;241m=\u001b[39m TextFileReader(filepath_or_buffer, \u001b[38;5;241m*\u001b[39m\u001b[38;5;241m*\u001b[39mkwds)\n\u001b[0;32m    577\u001b[0m \u001b[38;5;28;01mif\u001b[39;00m chunksize \u001b[38;5;129;01mor\u001b[39;00m iterator:\n\u001b[0;32m    578\u001b[0m     \u001b[38;5;28;01mreturn\u001b[39;00m parser\n",
      "File \u001b[1;32m~\\anaconda3\\lib\\site-packages\\pandas\\io\\parsers\\readers.py:932\u001b[0m, in \u001b[0;36mTextFileReader.__init__\u001b[1;34m(self, f, engine, **kwds)\u001b[0m\n\u001b[0;32m    929\u001b[0m     \u001b[38;5;28mself\u001b[39m\u001b[38;5;241m.\u001b[39moptions[\u001b[38;5;124m\"\u001b[39m\u001b[38;5;124mhas_index_names\u001b[39m\u001b[38;5;124m\"\u001b[39m] \u001b[38;5;241m=\u001b[39m kwds[\u001b[38;5;124m\"\u001b[39m\u001b[38;5;124mhas_index_names\u001b[39m\u001b[38;5;124m\"\u001b[39m]\n\u001b[0;32m    931\u001b[0m \u001b[38;5;28mself\u001b[39m\u001b[38;5;241m.\u001b[39mhandles: IOHandles \u001b[38;5;241m|\u001b[39m \u001b[38;5;28;01mNone\u001b[39;00m \u001b[38;5;241m=\u001b[39m \u001b[38;5;28;01mNone\u001b[39;00m\n\u001b[1;32m--> 932\u001b[0m \u001b[38;5;28mself\u001b[39m\u001b[38;5;241m.\u001b[39m_engine \u001b[38;5;241m=\u001b[39m \u001b[38;5;28;43mself\u001b[39;49m\u001b[38;5;241;43m.\u001b[39;49m\u001b[43m_make_engine\u001b[49m\u001b[43m(\u001b[49m\u001b[43mf\u001b[49m\u001b[43m,\u001b[49m\u001b[43m \u001b[49m\u001b[38;5;28;43mself\u001b[39;49m\u001b[38;5;241;43m.\u001b[39;49m\u001b[43mengine\u001b[49m\u001b[43m)\u001b[49m\n",
      "File \u001b[1;32m~\\anaconda3\\lib\\site-packages\\pandas\\io\\parsers\\readers.py:1216\u001b[0m, in \u001b[0;36mTextFileReader._make_engine\u001b[1;34m(self, f, engine)\u001b[0m\n\u001b[0;32m   1212\u001b[0m     mode \u001b[38;5;241m=\u001b[39m \u001b[38;5;124m\"\u001b[39m\u001b[38;5;124mrb\u001b[39m\u001b[38;5;124m\"\u001b[39m\n\u001b[0;32m   1213\u001b[0m \u001b[38;5;66;03m# error: No overload variant of \"get_handle\" matches argument types\u001b[39;00m\n\u001b[0;32m   1214\u001b[0m \u001b[38;5;66;03m# \"Union[str, PathLike[str], ReadCsvBuffer[bytes], ReadCsvBuffer[str]]\"\u001b[39;00m\n\u001b[0;32m   1215\u001b[0m \u001b[38;5;66;03m# , \"str\", \"bool\", \"Any\", \"Any\", \"Any\", \"Any\", \"Any\"\u001b[39;00m\n\u001b[1;32m-> 1216\u001b[0m \u001b[38;5;28mself\u001b[39m\u001b[38;5;241m.\u001b[39mhandles \u001b[38;5;241m=\u001b[39m \u001b[43mget_handle\u001b[49m\u001b[43m(\u001b[49m\u001b[43m  \u001b[49m\u001b[38;5;66;43;03m# type: ignore[call-overload]\u001b[39;49;00m\n\u001b[0;32m   1217\u001b[0m \u001b[43m    \u001b[49m\u001b[43mf\u001b[49m\u001b[43m,\u001b[49m\n\u001b[0;32m   1218\u001b[0m \u001b[43m    \u001b[49m\u001b[43mmode\u001b[49m\u001b[43m,\u001b[49m\n\u001b[0;32m   1219\u001b[0m \u001b[43m    \u001b[49m\u001b[43mencoding\u001b[49m\u001b[38;5;241;43m=\u001b[39;49m\u001b[38;5;28;43mself\u001b[39;49m\u001b[38;5;241;43m.\u001b[39;49m\u001b[43moptions\u001b[49m\u001b[38;5;241;43m.\u001b[39;49m\u001b[43mget\u001b[49m\u001b[43m(\u001b[49m\u001b[38;5;124;43m\"\u001b[39;49m\u001b[38;5;124;43mencoding\u001b[39;49m\u001b[38;5;124;43m\"\u001b[39;49m\u001b[43m,\u001b[49m\u001b[43m \u001b[49m\u001b[38;5;28;43;01mNone\u001b[39;49;00m\u001b[43m)\u001b[49m\u001b[43m,\u001b[49m\n\u001b[0;32m   1220\u001b[0m \u001b[43m    \u001b[49m\u001b[43mcompression\u001b[49m\u001b[38;5;241;43m=\u001b[39;49m\u001b[38;5;28;43mself\u001b[39;49m\u001b[38;5;241;43m.\u001b[39;49m\u001b[43moptions\u001b[49m\u001b[38;5;241;43m.\u001b[39;49m\u001b[43mget\u001b[49m\u001b[43m(\u001b[49m\u001b[38;5;124;43m\"\u001b[39;49m\u001b[38;5;124;43mcompression\u001b[39;49m\u001b[38;5;124;43m\"\u001b[39;49m\u001b[43m,\u001b[49m\u001b[43m \u001b[49m\u001b[38;5;28;43;01mNone\u001b[39;49;00m\u001b[43m)\u001b[49m\u001b[43m,\u001b[49m\n\u001b[0;32m   1221\u001b[0m \u001b[43m    \u001b[49m\u001b[43mmemory_map\u001b[49m\u001b[38;5;241;43m=\u001b[39;49m\u001b[38;5;28;43mself\u001b[39;49m\u001b[38;5;241;43m.\u001b[39;49m\u001b[43moptions\u001b[49m\u001b[38;5;241;43m.\u001b[39;49m\u001b[43mget\u001b[49m\u001b[43m(\u001b[49m\u001b[38;5;124;43m\"\u001b[39;49m\u001b[38;5;124;43mmemory_map\u001b[39;49m\u001b[38;5;124;43m\"\u001b[39;49m\u001b[43m,\u001b[49m\u001b[43m \u001b[49m\u001b[38;5;28;43;01mFalse\u001b[39;49;00m\u001b[43m)\u001b[49m\u001b[43m,\u001b[49m\n\u001b[0;32m   1222\u001b[0m \u001b[43m    \u001b[49m\u001b[43mis_text\u001b[49m\u001b[38;5;241;43m=\u001b[39;49m\u001b[43mis_text\u001b[49m\u001b[43m,\u001b[49m\n\u001b[0;32m   1223\u001b[0m \u001b[43m    \u001b[49m\u001b[43merrors\u001b[49m\u001b[38;5;241;43m=\u001b[39;49m\u001b[38;5;28;43mself\u001b[39;49m\u001b[38;5;241;43m.\u001b[39;49m\u001b[43moptions\u001b[49m\u001b[38;5;241;43m.\u001b[39;49m\u001b[43mget\u001b[49m\u001b[43m(\u001b[49m\u001b[38;5;124;43m\"\u001b[39;49m\u001b[38;5;124;43mencoding_errors\u001b[39;49m\u001b[38;5;124;43m\"\u001b[39;49m\u001b[43m,\u001b[49m\u001b[43m \u001b[49m\u001b[38;5;124;43m\"\u001b[39;49m\u001b[38;5;124;43mstrict\u001b[39;49m\u001b[38;5;124;43m\"\u001b[39;49m\u001b[43m)\u001b[49m\u001b[43m,\u001b[49m\n\u001b[0;32m   1224\u001b[0m \u001b[43m    \u001b[49m\u001b[43mstorage_options\u001b[49m\u001b[38;5;241;43m=\u001b[39;49m\u001b[38;5;28;43mself\u001b[39;49m\u001b[38;5;241;43m.\u001b[39;49m\u001b[43moptions\u001b[49m\u001b[38;5;241;43m.\u001b[39;49m\u001b[43mget\u001b[49m\u001b[43m(\u001b[49m\u001b[38;5;124;43m\"\u001b[39;49m\u001b[38;5;124;43mstorage_options\u001b[39;49m\u001b[38;5;124;43m\"\u001b[39;49m\u001b[43m,\u001b[49m\u001b[43m \u001b[49m\u001b[38;5;28;43;01mNone\u001b[39;49;00m\u001b[43m)\u001b[49m\u001b[43m,\u001b[49m\n\u001b[0;32m   1225\u001b[0m \u001b[43m\u001b[49m\u001b[43m)\u001b[49m\n\u001b[0;32m   1226\u001b[0m \u001b[38;5;28;01massert\u001b[39;00m \u001b[38;5;28mself\u001b[39m\u001b[38;5;241m.\u001b[39mhandles \u001b[38;5;129;01mis\u001b[39;00m \u001b[38;5;129;01mnot\u001b[39;00m \u001b[38;5;28;01mNone\u001b[39;00m\n\u001b[0;32m   1227\u001b[0m f \u001b[38;5;241m=\u001b[39m \u001b[38;5;28mself\u001b[39m\u001b[38;5;241m.\u001b[39mhandles\u001b[38;5;241m.\u001b[39mhandle\n",
      "File \u001b[1;32m~\\anaconda3\\lib\\site-packages\\pandas\\io\\common.py:786\u001b[0m, in \u001b[0;36mget_handle\u001b[1;34m(path_or_buf, mode, encoding, compression, memory_map, is_text, errors, storage_options)\u001b[0m\n\u001b[0;32m    781\u001b[0m \u001b[38;5;28;01melif\u001b[39;00m \u001b[38;5;28misinstance\u001b[39m(handle, \u001b[38;5;28mstr\u001b[39m):\n\u001b[0;32m    782\u001b[0m     \u001b[38;5;66;03m# Check whether the filename is to be opened in binary mode.\u001b[39;00m\n\u001b[0;32m    783\u001b[0m     \u001b[38;5;66;03m# Binary mode does not support 'encoding' and 'newline'.\u001b[39;00m\n\u001b[0;32m    784\u001b[0m     \u001b[38;5;28;01mif\u001b[39;00m ioargs\u001b[38;5;241m.\u001b[39mencoding \u001b[38;5;129;01mand\u001b[39;00m \u001b[38;5;124m\"\u001b[39m\u001b[38;5;124mb\u001b[39m\u001b[38;5;124m\"\u001b[39m \u001b[38;5;129;01mnot\u001b[39;00m \u001b[38;5;129;01min\u001b[39;00m ioargs\u001b[38;5;241m.\u001b[39mmode:\n\u001b[0;32m    785\u001b[0m         \u001b[38;5;66;03m# Encoding\u001b[39;00m\n\u001b[1;32m--> 786\u001b[0m         handle \u001b[38;5;241m=\u001b[39m \u001b[38;5;28;43mopen\u001b[39;49m\u001b[43m(\u001b[49m\n\u001b[0;32m    787\u001b[0m \u001b[43m            \u001b[49m\u001b[43mhandle\u001b[49m\u001b[43m,\u001b[49m\n\u001b[0;32m    788\u001b[0m \u001b[43m            \u001b[49m\u001b[43mioargs\u001b[49m\u001b[38;5;241;43m.\u001b[39;49m\u001b[43mmode\u001b[49m\u001b[43m,\u001b[49m\n\u001b[0;32m    789\u001b[0m \u001b[43m            \u001b[49m\u001b[43mencoding\u001b[49m\u001b[38;5;241;43m=\u001b[39;49m\u001b[43mioargs\u001b[49m\u001b[38;5;241;43m.\u001b[39;49m\u001b[43mencoding\u001b[49m\u001b[43m,\u001b[49m\n\u001b[0;32m    790\u001b[0m \u001b[43m            \u001b[49m\u001b[43merrors\u001b[49m\u001b[38;5;241;43m=\u001b[39;49m\u001b[43merrors\u001b[49m\u001b[43m,\u001b[49m\n\u001b[0;32m    791\u001b[0m \u001b[43m            \u001b[49m\u001b[43mnewline\u001b[49m\u001b[38;5;241;43m=\u001b[39;49m\u001b[38;5;124;43m\"\u001b[39;49m\u001b[38;5;124;43m\"\u001b[39;49m\u001b[43m,\u001b[49m\n\u001b[0;32m    792\u001b[0m \u001b[43m        \u001b[49m\u001b[43m)\u001b[49m\n\u001b[0;32m    793\u001b[0m     \u001b[38;5;28;01melse\u001b[39;00m:\n\u001b[0;32m    794\u001b[0m         \u001b[38;5;66;03m# Binary mode\u001b[39;00m\n\u001b[0;32m    795\u001b[0m         handle \u001b[38;5;241m=\u001b[39m \u001b[38;5;28mopen\u001b[39m(handle, ioargs\u001b[38;5;241m.\u001b[39mmode)\n",
      "\u001b[1;31mFileNotFoundError\u001b[0m: [Errno 2] No such file or directory: '../dataset/matches_h_XY.csv'"
     ]
    }
   ],
   "source": [
    "matches_h_XY = pd.read_csv('../dataset/matches_h_XY.csv')\n",
    "matches_a_XY = pd.read_csv('../dataset/matches_a_XY.csv')"
   ]
  },
  {
   "cell_type": "code",
   "execution_count": null,
   "id": "b9dfed2e",
   "metadata": {},
   "outputs": [],
   "source": [
    "matches_r = pd.read_csv('../dataset/results.csv')"
   ]
  },
  {
   "cell_type": "code",
   "execution_count": null,
   "id": "f3959dd0",
   "metadata": {},
   "outputs": [],
   "source": [
    "matches_h_XY.head()"
   ]
  },
  {
   "cell_type": "code",
   "execution_count": null,
   "id": "e0580a14",
   "metadata": {},
   "outputs": [],
   "source": [
    "def add_stats(df):\n",
    "    df = df.drop(columns = ['player_num','X', 'Y'])\n",
    "    df = df.sort_values(['date'], ascending = True)\n",
    "    \n",
    "    df_merge = pd.merge_asof(df, player_group_date, on='date', by='player_api_id', direction='nearest')\n",
    "        \n",
    "    df_merge.drop(columns = ['player_api_id', 'date'], inplace = True)\n",
    "    \n",
    "    df_merge_mean = df_merge.groupby(['match_api_id','Position']).mean().round(2)\n",
    "    df_merge_mean = df_merge_mean.reset_index()\n",
    "    \n",
    "    df_merge_wide = pd.pivot(df_merge_mean, index = 'match_api_id', columns = 'Position', \n",
    "                             values = player_group_date.columns[2:])\n",
    "    df_merge_wide.columns = df_merge_wide.columns.to_flat_index()\n",
    "    df_merge_wide = df_merge_wide.reset_index()\n",
    "    \n",
    "    return df_merge_wide"
   ]
  },
  {
   "cell_type": "code",
   "execution_count": null,
   "id": "909145dc",
   "metadata": {},
   "outputs": [],
   "source": [
    "matches_h_stats = add_stats(matches_h_XY)  "
   ]
  },
  {
   "cell_type": "code",
   "execution_count": null,
   "id": "cd2c5fb8",
   "metadata": {},
   "outputs": [],
   "source": [
    "matches_a_stats = add_stats(matches_a_XY)  "
   ]
  },
  {
   "cell_type": "code",
   "execution_count": null,
   "id": "289f6bbf",
   "metadata": {},
   "outputs": [],
   "source": [
    "matches_h_stats.head()"
   ]
  },
  {
   "cell_type": "code",
   "execution_count": null,
   "id": "ecd3a0db",
   "metadata": {},
   "outputs": [],
   "source": [
    "position_list = ['ST', 'W', 'MF', 'CB', 'SB', 'GK']"
   ]
  },
  {
   "cell_type": "code",
   "execution_count": null,
   "id": "9fa609f9",
   "metadata": {
    "scrolled": false
   },
   "outputs": [],
   "source": [
    "for position in position_list:\n",
    "    position_df = matches_h_stats.filter(like=position)\n",
    "    position_melt = pd.melt(position_df)\n",
    "    plt.subplots(figsize=(8,4))\n",
    "    sns.boxplot(x='variable', y='value', data=position_melt, palette = 'Set2', fliersize =0.5, linewidth = 0.5)\n",
    "    plt.xlabel('Group')\n",
    "    plt.ylabel('Rating distribution')\n",
    "    plt.title(str(position)+' rating')\n",
    "    plt.xticks(ticks=[0, 1, 2, 3, 4, 5], labels=['passing', 'shooting', 'defence', 'goalkeeping', 'offence_misc', 'movement'])    \n",
    "    plt.show()"
   ]
  },
  {
   "cell_type": "code",
   "execution_count": null,
   "id": "f95436ef",
   "metadata": {},
   "outputs": [],
   "source": [
    "matches_combined = pd.merge(matches_h_stats, matches_a_stats, on = 'match_api_id')"
   ]
  },
  {
   "cell_type": "code",
   "execution_count": null,
   "id": "85f8a35f",
   "metadata": {},
   "outputs": [],
   "source": [
    "column_names = matches_combined.columns\n",
    "new_column_names = [name.replace(\"'\", '').replace(', ', '_').replace('_x', '_home').replace('_y', '_away').\n",
    "                    replace('(', '').replace(')', '') for name in matches_combined.columns]\n",
    "\n",
    "matches_combined.columns = new_column_names"
   ]
  },
  {
   "cell_type": "code",
   "execution_count": null,
   "id": "53b58c00",
   "metadata": {},
   "outputs": [],
   "source": [
    "matches_combined_all = pd.merge(matches_combined, matches_r, on = 'match_api_id', how = 'left')"
   ]
  },
  {
   "cell_type": "code",
   "execution_count": null,
   "id": "679eec89",
   "metadata": {},
   "outputs": [],
   "source": [
    "matches_combined_all.head()"
   ]
  },
  {
   "cell_type": "code",
   "execution_count": null,
   "id": "a89570aa",
   "metadata": {},
   "outputs": [],
   "source": [
    "matches_combined_all.isna().sum()"
   ]
  },
  {
   "cell_type": "code",
   "execution_count": null,
   "id": "2fdf9dca",
   "metadata": {},
   "outputs": [],
   "source": [
    "matches_combined_all = matches_combined_all.dropna()"
   ]
  },
  {
   "cell_type": "code",
   "execution_count": null,
   "id": "cd5a735f",
   "metadata": {},
   "outputs": [],
   "source": [
    "matches_combined_all.columns"
   ]
  },
  {
   "cell_type": "code",
   "execution_count": null,
   "id": "5f903937",
   "metadata": {},
   "outputs": [],
   "source": [
    "advantage_pair = {\n",
    "    'offence_box_adv':(['shooting_ST_home','shooting_W_home'],['defence_CB_away','defence_SB_away'],1), \n",
    "    'offence_GK_adv':(['shooting_ST_home','shooting_W_home'],['goalkeeping_GK_away'],0.5),\n",
    "    'defence_box_adv':(['defence_CB_home','defence_SB_home'],['shooting_ST_away','shooting_W_away'],1),\n",
    "    'defence_GK_adv':(['goalkeeping_GK_home'],['shooting_ST_away','shooting_W_away'],2),   \n",
    "    \n",
    "    'offence_pass_adv':(['passing_W_home', 'passing_MF_home', 'passing_SB_home'],['defence_CB_away','defence_SB_away'],2/3),\n",
    "    'offence_move_adv':(['movement_W_home'],['movement_SB_away'],1),\n",
    "    'defence_pass_adv':(['defence_CB_home','defence_SB_home'],['passing_W_away', 'passing_MF_away', 'passing_SB_away'],1.5),\n",
    "    'defence_move_adv':(['movement_SB_home'],['movement_W_away'],1),    \n",
    "\n",
    "    'offence_misc_adv':(['offence_misc_MF_home','offence_misc_ST_home','offence_misc_W_home'],[\n",
    "        'offence_misc_MF_away','offence_misc_ST_away','offence_misc_W_away'],1)}"
   ]
  },
  {
   "cell_type": "code",
   "execution_count": null,
   "id": "d45e33ff",
   "metadata": {},
   "outputs": [],
   "source": [
    "matches_adv = matches_combined_all[['match_api_id', 'result']]"
   ]
  },
  {
   "cell_type": "code",
   "execution_count": null,
   "id": "9a411e31",
   "metadata": {},
   "outputs": [],
   "source": [
    "for new_col, (numerator_col, denominator_cols, multiplier) in advantage_pair.items():\n",
    "    num_sum = matches_combined_all[numerator_col].sum(axis=1)\n",
    "    deno_sum = matches_combined_all[denominator_cols].sum(axis=1)\n",
    "    matches_adv[new_col] = num_sum / deno_sum * multiplier"
   ]
  },
  {
   "cell_type": "code",
   "execution_count": null,
   "id": "5a40c35c",
   "metadata": {},
   "outputs": [],
   "source": [
    "matches_adv.isna().sum()"
   ]
  },
  {
   "cell_type": "code",
   "execution_count": null,
   "id": "687f3798",
   "metadata": {},
   "outputs": [],
   "source": [
    "matches_adv_2 = matches_adv.drop(columns = ['match_api_id'])"
   ]
  },
  {
   "cell_type": "code",
   "execution_count": null,
   "id": "07980b80",
   "metadata": {},
   "outputs": [],
   "source": [
    "X = matches_adv_2.drop(columns = ['result'])"
   ]
  },
  {
   "cell_type": "code",
   "execution_count": null,
   "id": "b2d619ce",
   "metadata": {},
   "outputs": [],
   "source": [
    "y = matches_adv_2['result']"
   ]
  },
  {
   "cell_type": "code",
   "execution_count": null,
   "id": "79362ffa",
   "metadata": {},
   "outputs": [],
   "source": [
    "matches_adv_2.columns"
   ]
  },
  {
   "cell_type": "code",
   "execution_count": null,
   "id": "b28becc1",
   "metadata": {},
   "outputs": [],
   "source": [
    "matches_adv_2.head()"
   ]
  },
  {
   "cell_type": "code",
   "execution_count": null,
   "id": "4576ead8",
   "metadata": {
    "scrolled": false
   },
   "outputs": [],
   "source": [
    "plt.figure(figsize=(12, 8))\n",
    "plt.tight_layout()\n",
    "sns.set_palette(\"Paired\")\n",
    "\n",
    "# Define the categories of 'result'\n",
    "categories = matches_adv_2['result'].unique()\n",
    "\n",
    "# Iterate over each column (except 'result')\n",
    "for i, column in enumerate(matches_adv_2.columns[1:], start=1):\n",
    "    plt.subplot(2, 5, i)\n",
    "    \n",
    "    # Create a list to store box plot data for each category\n",
    "    boxplot_data = []\n",
    "    \n",
    "    # Iterate over each category and collect the data\n",
    "    for category in categories:\n",
    "        data = matches_adv_2[matches_adv_2['result'] == category][column]\n",
    "        boxplot_data.append(data)\n",
    "    \n",
    "    # Plot the box plots for each category\n",
    "    plt.boxplot(boxplot_data, labels=categories, flierprops={'markersize': 1}) \n",
    "    \n",
    "    plt.xlabel(column)\n",
    "\n",
    "# Set the main title for the entire plot\n",
    "plt.suptitle('Subplots of Box Plots')\n",
    "\n",
    "# Adjust the spacing between subplots\n",
    "plt.tight_layout(rect=[0, 0, 0.85, 0.95])\n",
    "\n",
    "# Display the plot\n",
    "plt.show()"
   ]
  },
  {
   "cell_type": "code",
   "execution_count": null,
   "id": "49cbd95c",
   "metadata": {},
   "outputs": [],
   "source": [
    "z_scores = np.abs((X - X.mean()) / X.std())\n",
    "outliers = z_scores > 4\n",
    "outliers_rows = matches_adv_2[outliers.any(axis=1)]"
   ]
  },
  {
   "cell_type": "code",
   "execution_count": null,
   "id": "c1902a71",
   "metadata": {},
   "outputs": [],
   "source": [
    "outliers_rows.shape"
   ]
  },
  {
   "cell_type": "code",
   "execution_count": null,
   "id": "f41fb1dc",
   "metadata": {},
   "outputs": [],
   "source": [
    "outlier_counts = outliers.sum()\n",
    "plt.figure(figsize=(8, 4))\n",
    "outlier_counts.plot(kind='barh')\n",
    "plt.xlabel('Columns')\n",
    "plt.ylabel('Number of Outliers')\n",
    "plt.title('Number of Outliers in Each Column')\n",
    "plt.show()"
   ]
  },
  {
   "cell_type": "code",
   "execution_count": null,
   "id": "84ffd6f3",
   "metadata": {},
   "outputs": [],
   "source": [
    "plt.subplots(figsize=(10,8))\n",
    "sns.heatmap(X.corr(),annot=True, cmap=sns.diverging_palette(220, 20, as_cmap=True))"
   ]
  },
  {
   "cell_type": "code",
   "execution_count": null,
   "id": "129edb9a",
   "metadata": {},
   "outputs": [],
   "source": [
    "X = matches_adv_2.drop(columns = ['result'], axis = 1)\n",
    "\n",
    "y = matches_adv_2['result']"
   ]
  },
  {
   "cell_type": "code",
   "execution_count": null,
   "id": "8a632705",
   "metadata": {},
   "outputs": [],
   "source": [
    "X_sm = sm.add_constant(X)\n",
    "\n",
    "label_mapping = {'lose':0, 'tie':0.5, 'win':1}\n",
    "\n",
    "y_sm = y.map(label_mapping)\n",
    "\n",
    "log_reg = sm.Logit(y_sm, X_sm).fit()\n",
    "print(log_reg.summary2())"
   ]
  },
  {
   "cell_type": "code",
   "execution_count": null,
   "id": "1c8c3913",
   "metadata": {},
   "outputs": [],
   "source": [
    "Win = matches_adv_2[matches_adv_2['result'] == 'win']\n",
    "Tie = matches_adv_2[matches_adv_2['result'] == 'tie']\n",
    "Lose = matches_adv_2[matches_adv_2['result'] == 'lose']"
   ]
  },
  {
   "cell_type": "code",
   "execution_count": null,
   "id": "7e0ecf94",
   "metadata": {
    "scrolled": false
   },
   "outputs": [],
   "source": [
    "num_cols = 4\n",
    "num_rows = int(np.ceil(len(X.columns) / num_cols))\n",
    "\n",
    "fig, axes = plt.subplots(nrows=num_rows, ncols=num_cols, figsize=(16, 24))\n",
    "fig.subplots_adjust(hspace=0.5) \n",
    "\n",
    "axes = axes.flatten()\n",
    "\n",
    "for i, col in enumerate(X.columns):\n",
    "    ax = axes[i]\n",
    "    sns.distplot(Win[col], hist=True, kde=True,\n",
    "                 kde_kws={'linewidth': 1, 'color': 'darkblue'}, bins=20, color='lightblue', label='Win', ax=ax)\n",
    "    sns.distplot(Lose[col], hist=True, kde=True,\n",
    "                 kde_kws={'linewidth': 1, 'color': 'goldenrod'}, bins=20, color='tan', label='Lose', ax=ax)\n",
    "    ax.set_title(col)\n",
    "    ax.legend()\n",
    "\n",
    "plt.tight_layout()\n",
    "plt.show()"
   ]
  },
  {
   "cell_type": "code",
   "execution_count": null,
   "id": "d3d0a056",
   "metadata": {},
   "outputs": [],
   "source": [
    "matches_adv_2.to_csv('../dataset/model_df2.csv', index = False)"
   ]
  },
  {
   "cell_type": "code",
   "execution_count": null,
   "id": "2da0e779",
   "metadata": {},
   "outputs": [],
   "source": []
  }
 ],
 "metadata": {
  "kernelspec": {
   "display_name": "Python 3 (ipykernel)",
   "language": "python",
   "name": "python3"
  },
  "language_info": {
   "codemirror_mode": {
    "name": "ipython",
    "version": 3
   },
   "file_extension": ".py",
   "mimetype": "text/x-python",
   "name": "python",
   "nbconvert_exporter": "python",
   "pygments_lexer": "ipython3",
   "version": "3.9.13"
  }
 },
 "nbformat": 4,
 "nbformat_minor": 5
}
