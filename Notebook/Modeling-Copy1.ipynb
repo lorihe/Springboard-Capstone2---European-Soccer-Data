{
 "cells": [
  {
   "cell_type": "code",
   "execution_count": 25,
   "id": "8bb4caf4",
   "metadata": {},
   "outputs": [],
   "source": [
    "import pandas as pd\n",
    "import numpy as np\n",
    "import matplotlib.pyplot as plt\n",
    "import seaborn as sns\n",
    "from scipy.optimize import curve_fit\n",
    "import statsmodels.api as sm\n",
    "import warnings\n",
    "from sklearn.linear_model import LogisticRegression\n",
    "from sklearn.pipeline import Pipeline\n",
    "from sklearn.linear_model import LogisticRegression\n",
    "from sklearn.ensemble import RandomForestClassifier\n",
    "from sklearn.neighbors import KNeighborsClassifier\n",
    "from sklearn.model_selection import train_test_split\n",
    "from sklearn.metrics import accuracy_score\n",
    "from sklearn.preprocessing import StandardScaler\n",
    "from sklearn.metrics import classification_report,ConfusionMatrixDisplay,confusion_matrix\n",
    "import pickle\n",
    "from imblearn.over_sampling import SMOTE\n",
    "from imblearn.over_sampling import RandomOverSampler\n",
    "import itertools\n",
    "from sklearn.preprocessing import MinMaxScaler\n",
    "from sklearn.pipeline import Pipeline\n",
    "from sklearn.metrics import classification_report,ConfusionMatrixDisplay,confusion_matrix\n",
    "from tensorflow.keras import models, layers, utils, backend as K\n",
    "import matplotlib.pyplot as plt\n",
    "import shap\n",
    "from sklearn import model_selection, preprocessing, feature_selection, ensemble, linear_model, metrics, decomposition\n",
    "from lime import lime_tabular\n",
    "from sklearn.model_selection import GridSearchCV"
   ]
  },
  {
   "cell_type": "code",
   "execution_count": 2,
   "id": "f7a61191",
   "metadata": {},
   "outputs": [],
   "source": [
    "%matplotlib inline\n",
    "warnings.filterwarnings('ignore')"
   ]
  },
  {
   "cell_type": "code",
   "execution_count": 3,
   "id": "9568cd8e",
   "metadata": {},
   "outputs": [],
   "source": [
    "sns.set()\n",
    "pd.set_option('display.max_columns', None)\n",
    "pd.set_option('display.max_rows', None)"
   ]
  },
  {
   "cell_type": "code",
   "execution_count": 28,
   "id": "aa25dbb0",
   "metadata": {},
   "outputs": [],
   "source": [
    "matches_final = pd.read_csv('../dataset/matches_r2.csv')"
   ]
  },
  {
   "cell_type": "code",
   "execution_count": 29,
   "id": "8804beb1",
   "metadata": {},
   "outputs": [
    {
     "data": {
      "text/plain": [
       "(15689, 10)"
      ]
     },
     "execution_count": 29,
     "metadata": {},
     "output_type": "execute_result"
    }
   ],
   "source": [
    "matches_final.shape"
   ]
  },
  {
   "cell_type": "code",
   "execution_count": 30,
   "id": "f6eb19c1",
   "metadata": {},
   "outputs": [
    {
     "data": {
      "text/html": [
       "<div>\n",
       "<style scoped>\n",
       "    .dataframe tbody tr th:only-of-type {\n",
       "        vertical-align: middle;\n",
       "    }\n",
       "\n",
       "    .dataframe tbody tr th {\n",
       "        vertical-align: top;\n",
       "    }\n",
       "\n",
       "    .dataframe thead th {\n",
       "        text-align: right;\n",
       "    }\n",
       "</style>\n",
       "<table border=\"1\" class=\"dataframe\">\n",
       "  <thead>\n",
       "    <tr style=\"text-align: right;\">\n",
       "      <th></th>\n",
       "      <th>result</th>\n",
       "      <th>offence_box_adv</th>\n",
       "      <th>offence_GK_adv</th>\n",
       "      <th>defence_box_adv</th>\n",
       "      <th>defence_GK_adv</th>\n",
       "      <th>offence_pass_adv</th>\n",
       "      <th>offence_move_adv</th>\n",
       "      <th>defence_pass_adv</th>\n",
       "      <th>defence_move_adv</th>\n",
       "      <th>offence_misc_adv</th>\n",
       "    </tr>\n",
       "  </thead>\n",
       "  <tbody>\n",
       "    <tr>\n",
       "      <th>0</th>\n",
       "      <td>win</td>\n",
       "      <td>0.998805</td>\n",
       "      <td>0.909864</td>\n",
       "      <td>1.188616</td>\n",
       "      <td>1.213864</td>\n",
       "      <td>1.070371</td>\n",
       "      <td>1.055491</td>\n",
       "      <td>1.129365</td>\n",
       "      <td>0.939151</td>\n",
       "      <td>1.111281</td>\n",
       "    </tr>\n",
       "    <tr>\n",
       "      <th>1</th>\n",
       "      <td>win</td>\n",
       "      <td>0.953050</td>\n",
       "      <td>0.916029</td>\n",
       "      <td>0.958295</td>\n",
       "      <td>1.124031</td>\n",
       "      <td>0.857672</td>\n",
       "      <td>1.019841</td>\n",
       "      <td>1.031083</td>\n",
       "      <td>0.659104</td>\n",
       "      <td>1.009207</td>\n",
       "    </tr>\n",
       "    <tr>\n",
       "      <th>2</th>\n",
       "      <td>tie</td>\n",
       "      <td>0.850986</td>\n",
       "      <td>0.949814</td>\n",
       "      <td>0.985615</td>\n",
       "      <td>1.219231</td>\n",
       "      <td>0.815437</td>\n",
       "      <td>1.097571</td>\n",
       "      <td>0.919066</td>\n",
       "      <td>0.803688</td>\n",
       "      <td>0.880322</td>\n",
       "    </tr>\n",
       "    <tr>\n",
       "      <th>3</th>\n",
       "      <td>lose</td>\n",
       "      <td>0.838592</td>\n",
       "      <td>0.762483</td>\n",
       "      <td>1.185132</td>\n",
       "      <td>1.311599</td>\n",
       "      <td>0.972593</td>\n",
       "      <td>1.392121</td>\n",
       "      <td>1.130798</td>\n",
       "      <td>0.979385</td>\n",
       "      <td>1.015217</td>\n",
       "    </tr>\n",
       "    <tr>\n",
       "      <th>4</th>\n",
       "      <td>win</td>\n",
       "      <td>0.882419</td>\n",
       "      <td>0.853064</td>\n",
       "      <td>0.897846</td>\n",
       "      <td>1.156257</td>\n",
       "      <td>0.862961</td>\n",
       "      <td>1.067194</td>\n",
       "      <td>0.987768</td>\n",
       "      <td>0.912083</td>\n",
       "      <td>0.918860</td>\n",
       "    </tr>\n",
       "  </tbody>\n",
       "</table>\n",
       "</div>"
      ],
      "text/plain": [
       "  result  offence_box_adv  offence_GK_adv  defence_box_adv  defence_GK_adv  \\\n",
       "0    win         0.998805        0.909864         1.188616        1.213864   \n",
       "1    win         0.953050        0.916029         0.958295        1.124031   \n",
       "2    tie         0.850986        0.949814         0.985615        1.219231   \n",
       "3   lose         0.838592        0.762483         1.185132        1.311599   \n",
       "4    win         0.882419        0.853064         0.897846        1.156257   \n",
       "\n",
       "   offence_pass_adv  offence_move_adv  defence_pass_adv  defence_move_adv  \\\n",
       "0          1.070371          1.055491          1.129365          0.939151   \n",
       "1          0.857672          1.019841          1.031083          0.659104   \n",
       "2          0.815437          1.097571          0.919066          0.803688   \n",
       "3          0.972593          1.392121          1.130798          0.979385   \n",
       "4          0.862961          1.067194          0.987768          0.912083   \n",
       "\n",
       "   offence_misc_adv  \n",
       "0          1.111281  \n",
       "1          1.009207  \n",
       "2          0.880322  \n",
       "3          1.015217  \n",
       "4          0.918860  "
      ]
     },
     "execution_count": 30,
     "metadata": {},
     "output_type": "execute_result"
    }
   ],
   "source": [
    "matches_final.head()"
   ]
  },
  {
   "cell_type": "code",
   "execution_count": 31,
   "id": "d9b6b157",
   "metadata": {},
   "outputs": [
    {
     "data": {
      "text/plain": [
       "result               object\n",
       "offence_box_adv     float64\n",
       "offence_GK_adv      float64\n",
       "defence_box_adv     float64\n",
       "defence_GK_adv      float64\n",
       "offence_pass_adv    float64\n",
       "offence_move_adv    float64\n",
       "defence_pass_adv    float64\n",
       "defence_move_adv    float64\n",
       "offence_misc_adv    float64\n",
       "dtype: object"
      ]
     },
     "execution_count": 31,
     "metadata": {},
     "output_type": "execute_result"
    }
   ],
   "source": [
    "matches_final.dtypes"
   ]
  },
  {
   "cell_type": "code",
   "execution_count": 32,
   "id": "6659040f",
   "metadata": {},
   "outputs": [
    {
     "data": {
      "text/plain": [
       "result              0\n",
       "offence_box_adv     0\n",
       "offence_GK_adv      0\n",
       "defence_box_adv     0\n",
       "defence_GK_adv      0\n",
       "offence_pass_adv    0\n",
       "offence_move_adv    0\n",
       "defence_pass_adv    0\n",
       "defence_move_adv    0\n",
       "offence_misc_adv    0\n",
       "dtype: int64"
      ]
     },
     "execution_count": 32,
     "metadata": {},
     "output_type": "execute_result"
    }
   ],
   "source": [
    "matches_final.isna().sum()"
   ]
  },
  {
   "cell_type": "code",
   "execution_count": 33,
   "id": "29458012",
   "metadata": {},
   "outputs": [
    {
     "data": {
      "text/plain": [
       "win     7140\n",
       "lose    4634\n",
       "tie     3915\n",
       "Name: result, dtype: int64"
      ]
     },
     "execution_count": 33,
     "metadata": {},
     "output_type": "execute_result"
    }
   ],
   "source": [
    "matches_final['result'].value_counts()"
   ]
  },
  {
   "cell_type": "code",
   "execution_count": 34,
   "id": "2fd47718",
   "metadata": {},
   "outputs": [],
   "source": [
    "matches_final.result = matches_final.result.astype('category')"
   ]
  },
  {
   "cell_type": "code",
   "execution_count": 35,
   "id": "82ccde32",
   "metadata": {},
   "outputs": [],
   "source": [
    "X_train, X_test, y_train, y_test = train_test_split(matches_final.drop(columns='result'), \n",
    "                                                    matches_final.result, test_size=0.25, \n",
    "                                                    random_state=47)"
   ]
  },
  {
   "cell_type": "code",
   "execution_count": 36,
   "id": "f3b29a61",
   "metadata": {},
   "outputs": [
    {
     "name": "stdout",
     "output_type": "stream",
     "text": [
      "(11766, 9) (3923, 9)\n",
      "(11766,) (3923,)\n"
     ]
    }
   ],
   "source": [
    "print(X_train.shape, X_test.shape)\n",
    "print(y_train.shape, y_test.shape)"
   ]
  },
  {
   "cell_type": "code",
   "execution_count": 44,
   "id": "145467b9",
   "metadata": {},
   "outputs": [],
   "source": [
    "oversampler = RandomOverSampler(random_state=42)\n",
    "X_train, y_train = oversampler.fit_resample(X_train, y_train)"
   ]
  },
  {
   "cell_type": "code",
   "execution_count": 45,
   "id": "15435fca",
   "metadata": {},
   "outputs": [
    {
     "data": {
      "text/plain": [
       "lose    5357\n",
       "tie     5357\n",
       "win     5357\n",
       "Name: result, dtype: int64"
      ]
     },
     "execution_count": 45,
     "metadata": {},
     "output_type": "execute_result"
    }
   ],
   "source": [
    "y_train.value_counts()"
   ]
  },
  {
   "cell_type": "code",
   "execution_count": 44,
   "id": "d93eb566",
   "metadata": {},
   "outputs": [],
   "source": [
    "#scaler = MinMaxScaler()"
   ]
  },
  {
   "cell_type": "code",
   "execution_count": 45,
   "id": "9d6f3260",
   "metadata": {},
   "outputs": [],
   "source": [
    "#scaler.fit(X_train)\n",
    "#X_train_transformed = scaler.transform(X_train)\n",
    "\n",
    "#X_test_transformed = scaler.transform(X_test)"
   ]
  },
  {
   "cell_type": "code",
   "execution_count": 14,
   "id": "bb9cf3df",
   "metadata": {},
   "outputs": [],
   "source": [
    "# Logistic Regression pipeline\n",
    "lr_pipeline = Pipeline([('lr', LogisticRegression())])\n",
    "\n",
    "# Random Forest pipeline\n",
    "rf_pipeline = Pipeline([('rf', RandomForestClassifier())])\n",
    "\n",
    "# K-Nearest Neighbors pipeline\n",
    "knn_pipeline = Pipeline([('knn', KNeighborsClassifier())])\n",
    "\n",
    "# List of pipelines\n",
    "pipelines = [lr_pipeline, rf_pipeline, knn_pipeline]"
   ]
  },
  {
   "cell_type": "code",
   "execution_count": 15,
   "id": "9c164440",
   "metadata": {},
   "outputs": [],
   "source": [
    "def metrics_display(model):\n",
    "    '''display model performence metrics'''\n",
    "    \n",
    "    model.fit(X_train,y_train)\n",
    "    y_pred = model.predict(X_test)\n",
    "    \n",
    "    print(classification_report(y_test,y_pred))\n",
    "    cm = confusion_matrix(y_test, y_pred, labels=model.classes_)\n",
    "    disp = ConfusionMatrixDisplay(confusion_matrix=cm, display_labels=model.classes_)\n",
    "\n",
    "    fig, ax = plt.subplots(figsize=(3, 3))  \n",
    "    disp.plot(ax=ax)  \n",
    "    plt.show()  "
   ]
  },
  {
   "cell_type": "code",
   "execution_count": 46,
   "id": "8ef9f450",
   "metadata": {},
   "outputs": [
    {
     "name": "stdout",
     "output_type": "stream",
     "text": [
      "LogisticRegression Accuracy: 0.48\n",
      "RandomForestClassifier Accuracy: 0.48\n",
      "KNeighborsClassifier Accuracy: 0.41\n"
     ]
    }
   ],
   "source": [
    "for pipeline in pipelines:\n",
    "    pipeline.fit(X_train, y_train)\n",
    "    y_pred = pipeline.predict(X_test)\n",
    "    accuracy = accuracy_score(y_test, y_pred)\n",
    "    model_name = pipeline.steps[-1][1].__class__.__name__\n",
    "    print(f'{model_name} Accuracy: {accuracy:.2f}')"
   ]
  },
  {
   "cell_type": "code",
   "execution_count": 47,
   "id": "4b9efc47",
   "metadata": {},
   "outputs": [
    {
     "name": "stdout",
     "output_type": "stream",
     "text": [
      "              precision    recall  f1-score   support\n",
      "\n",
      "        lose       0.44      0.59      0.51      1162\n",
      "         tie       0.28      0.20      0.23       978\n",
      "         win       0.60      0.57      0.59      1783\n",
      "\n",
      "    accuracy                           0.48      3923\n",
      "   macro avg       0.44      0.45      0.44      3923\n",
      "weighted avg       0.48      0.48      0.47      3923\n",
      "\n"
     ]
    },
    {
     "data": {
      "image/png": "[encoded data removed]",
      "text/plain": [
       "<Figure size 300x300 with 2 Axes>"
      ]
     },
     "metadata": {},
     "output_type": "display_data"
    }
   ],
   "source": [
    "metrics_display(LogisticRegression())"
   ]
  },
  {
   "cell_type": "code",
   "execution_count": 49,
   "id": "12994eac",
   "metadata": {},
   "outputs": [
    {
     "name": "stdout",
     "output_type": "stream",
     "text": [
      "Best Parameters: {'C': 0.1, 'penalty': 'l2', 'solver': 'saga'}\n",
      "Best Score: 0.4567239168451399\n"
     ]
    }
   ],
   "source": [
    "param_grid = {\n",
    "    'C': [0.1, 1.0, 10.0],                # Inverse of regularization strength\n",
    "    'penalty': ['l1', 'l2'],               # Regularization penalty ('l1' for L1 regularization, 'l2' for L2 regularization)\n",
    "    'solver': ['liblinear', 'saga']        # Algorithm to use in the optimization problem\n",
    "}\n",
    "# Create GridSearchCV with the Logistic Regression classifier and parameter grid\n",
    "grid_search = GridSearchCV(estimator=LogisticRegression(), param_grid=param_grid, cv=5)\n",
    "\n",
    "# Fit the GridSearchCV on your training data\n",
    "grid_search.fit(X_train, y_train)\n",
    "\n",
    "# Get the best parameters and best score from the GridSearchCV\n",
    "best_params = grid_search.best_params_\n",
    "best_score = grid_search.best_score_\n",
    "\n",
    "# Print the best parameters and best score\n",
    "print(\"Best Parameters:\", best_params)\n",
    "print(\"Best Score:\", best_score)"
   ]
  },
  {
   "cell_type": "code",
   "execution_count": 50,
   "id": "28f4d882",
   "metadata": {},
   "outputs": [
    {
     "name": "stdout",
     "output_type": "stream",
     "text": [
      "              precision    recall  f1-score   support\n",
      "\n",
      "        lose       0.44      0.60      0.51      1162\n",
      "         tie       0.28      0.18      0.22       978\n",
      "         win       0.60      0.58      0.59      1783\n",
      "\n",
      "    accuracy                           0.48      3923\n",
      "   macro avg       0.44      0.45      0.44      3923\n",
      "weighted avg       0.47      0.48      0.47      3923\n",
      "\n"
     ]
    },
    {
     "data": {
      "image/png": "[encoded data removed]",
      "text/plain": [
       "<Figure size 300x300 with 2 Axes>"
      ]
     },
     "metadata": {},
     "output_type": "display_data"
    }
   ],
   "source": [
    "logistic = LogisticRegression(C=0.1, penalty= 'l2', solver='saga')\n",
    "metrics_display(logistic)"
   ]
  },
  {
   "cell_type": "code",
   "execution_count": null,
   "id": "3739f12a",
   "metadata": {},
   "outputs": [],
   "source": []
  }
 ],
 "metadata": {
  "kernelspec": {
   "display_name": "Python 3 (ipykernel)",
   "language": "python",
   "name": "python3"
  },
  "language_info": {
   "codemirror_mode": {
    "name": "ipython",
    "version": 3
   },
   "file_extension": ".py",
   "mimetype": "text/x-python",
   "name": "python",
   "nbconvert_exporter": "python",
   "pygments_lexer": "ipython3",
   "version": "3.9.13"
  }
 },
 "nbformat": 4,
 "nbformat_minor": 5
}
